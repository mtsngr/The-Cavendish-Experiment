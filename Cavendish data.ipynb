{
 "cells": [
  {
   "cell_type": "code",
   "execution_count": 14,
   "metadata": {},
   "outputs": [
    {
     "name": "stdout",
     "output_type": "stream",
     "text": [
      "1.24713054323e-07 1.533471402883741e-09\n"
     ]
    }
   ],
   "source": [
    "# finding kappa\n",
    "# The values start with S are errors. \n",
    "\n",
    "b=0.001131\n",
    "Sb=0.00000338\n",
    "od=.02951\n",
    "Sod=0.000003505\n",
    "om=(od**2 + b**2)**0.5\n",
    "Som=((Sod**2)*(od**2/(od**2 + b**2)) + (Sb**2)*(b**2/(od**2 + b**2)))**0.5\n",
    "\n",
    "i=0.000143\n",
    "Si=0.000000879\n",
    "k=i*(om**2)\n",
    "Sk=((Som**2)*(2*om*i)**2 + (Si**2)*(4*om**4))**0.5\n",
    "\n",
    "print(k, Sk)\n"
   ]
  },
  {
   "cell_type": "code",
   "execution_count": 16,
   "metadata": {},
   "outputs": [
    {
     "name": "stdout",
     "output_type": "stream",
     "text": [
      "8.82605917199669e-12 1.067063728604085e-12\n"
     ]
    }
   ],
   "source": [
    "# finding G\n",
    "# The values start with S are errors. \n",
    "\n",
    "k=1.24713054323e-07  #kappa\n",
    "Sk=1.533471402883741e-09 # error of kappa\n",
    "r=0.0461025\n",
    "Sr=0.000158\n",
    "t=0.000067111\n",
    "St=0.000008058\n",
    "M=1.0385\n",
    "SM=0.001\n",
    "m=0.014559\n",
    "Sm=0.00001\n",
    "L=0.133306\n",
    "SL=0.0000742\n",
    "\n",
    "SG=((Sk**2)*((t*r*r)/(M*m*L))**2 + (St**2)*((k*r*r)/(M*m*L))**2 + (Sr**2)*((2*k*t*r)/(M*m*L))**2+ ((k*t*r*r)**2)*((SM**2)*(1/(m*L*M**2))**2 + (Sm**2)*(1/(M*L*m**2))**2 + (SL**2)*(1/(M*m*L**2))**2))**0.5\n",
    "\n",
    "G=(k*t*r*r)/(M*m*L)\n",
    "\n",
    "print(G, SG)\n",
    "\n"
   ]
  },
  {
   "cell_type": "code",
   "execution_count": null,
   "metadata": {
    "collapsed": true
   },
   "outputs": [],
   "source": []
  },
  {
   "cell_type": "code",
   "execution_count": 3,
   "metadata": {
    "collapsed": true
   },
   "outputs": [],
   "source": [
    "data1s = open(\"data1s.C\")\n",
    "data2 = open(\"data2.C\",\"w\")\n",
    "ww=[]\n",
    "for line in data1s:\n",
    "    ww += line.split()\n",
    "for i in ww:\n",
    "    \n",
    "    data2.write(i+',\\n')\n",
    "\n",
    "\n"
   ]
  },
  {
   "cell_type": "code",
   "execution_count": null,
   "metadata": {
    "collapsed": true
   },
   "outputs": [],
   "source": []
  }
 ],
 "metadata": {
  "kernelspec": {
   "display_name": "Python 3",
   "language": "python",
   "name": "python3"
  },
  "language_info": {
   "codemirror_mode": {
    "name": "ipython",
    "version": 3
   },
   "file_extension": ".py",
   "mimetype": "text/x-python",
   "name": "python",
   "nbconvert_exporter": "python",
   "pygments_lexer": "ipython3",
   "version": "3.6.3"
  }
 },
 "nbformat": 4,
 "nbformat_minor": 2
}
